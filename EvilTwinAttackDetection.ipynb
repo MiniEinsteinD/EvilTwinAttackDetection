{
  "nbformat": 4,
  "nbformat_minor": 0,
  "metadata": {
    "colab": {
      "provenance": [],
      "include_colab_link": true
    },
    "kernelspec": {
      "name": "python3",
      "display_name": "Python 3"
    },
    "language_info": {
      "name": "python"
    }
  },
  "cells": [
    {
      "cell_type": "markdown",
      "metadata": {
        "id": "view-in-github",
        "colab_type": "text"
      },
      "source": [
        "<a href=\"https://colab.research.google.com/github/MiniEinsteinD/EvilTwinAttackDetection/blob/main/EvilTwinAttackDetection.ipynb\" target=\"_parent\"><img src=\"https://colab.research.google.com/assets/colab-badge.svg\" alt=\"Open In Colab\"/></a>"
      ]
    },
    {
      "cell_type": "markdown",
      "source": [
        "Training SVM"
      ],
      "metadata": {
        "id": "EGPH40E-AV2U"
      }
    },
    {
      "cell_type": "code",
      "source": [
        "!git clone https://github.com/silvamleandro/EvilTwin_detection.git"
      ],
      "metadata": {
        "colab": {
          "base_uri": "https://localhost:8080/"
        },
        "id": "H-7gkB2MAWRr",
        "outputId": "ec826701-d040-411b-c622-eb1e8021a209"
      },
      "execution_count": null,
      "outputs": [
        {
          "output_type": "stream",
          "name": "stdout",
          "text": [
            "fatal: destination path 'EvilTwin_detection' already exists and is not an empty directory.\n"
          ]
        }
      ]
    },
    {
      "cell_type": "code",
      "source": [
        "%cd /content/EvilTwin_detection/src"
      ],
      "metadata": {
        "id": "FKl36tgeAc2F"
      },
      "execution_count": null,
      "outputs": []
    },
    {
      "cell_type": "markdown",
      "source": [
        "**Training and Test**"
      ],
      "metadata": {
        "id": "8_TAb7l0w9kz"
      }
    },
    {
      "cell_type": "code",
      "source": [
        "!pip install pycaret"
      ],
      "metadata": {
        "id": "fGmSsUomegt_"
      },
      "execution_count": null,
      "outputs": []
    },
    {
      "cell_type": "code",
      "source": [
        "!pip install optuna"
      ],
      "metadata": {
        "id": "hsrNkKE7jaQ2"
      },
      "execution_count": null,
      "outputs": []
    },
    {
      "cell_type": "code",
      "source": [
        "# Imports\n",
        "from imblearn.over_sampling import KMeansSMOTE\n",
        "from pathlib import Path\n",
        "from pycaret.classification import *\n",
        "from sklearn.ensemble import RandomForestClassifier\n",
        "from sklearn.metrics import accuracy_score, auc, classification_report, confusion_matrix, ConfusionMatrixDisplay, f1_score, precision_score, recall_score, roc_curve\n",
        "from sklearn.neural_network import MLPClassifier\n",
        "from sklearn.tree import DecisionTreeClassifier\n",
        "from sklearn.model_selection import StratifiedKFold\n",
        "from time import time\n",
        "from utils import split_X_y # utils.py\n",
        "\n",
        "import lightgbm as lgb\n",
        "import matplotlib.pyplot as plt\n",
        "import numpy as np\n",
        "import optuna\n",
        "import pandas as pd\n",
        "import pickle\n",
        "import warnings\n",
        "import xgboost as xgb\n",
        "import pycaret\n",
        "import time\n",
        "\n",
        "\n",
        "# Ignore Pandas warnings\n",
        "warnings.filterwarnings(\"ignore\")\n",
        "\n",
        "# Random state default\n",
        "RANDOM_STATE = 42"
      ],
      "metadata": {
        "id": "7plyLRKDwkJi"
      },
      "execution_count": null,
      "outputs": []
    },
    {
      "cell_type": "code",
      "source": [
        "def plot_roc_curve(model, fpr, tpr, roc_auc, k,\n",
        "                   save_figure=False, reports_path=None, file_name=None):\n",
        "    # Config the plot\n",
        "    plt.figure(figsize=(10,10))\n",
        "    plt.grid()\n",
        "    plt.plot([0, 1], [0, 1], ls='--')\n",
        "    plt.ylim([-0.01, 1.01])\n",
        "    plt.xlim([-0.01, 1.01])\n",
        "    plt.xlabel('False Positive Rate', size=16)\n",
        "    plt.ylabel('True Positive Rate', size=16)\n",
        "\n",
        "    linspace = np.linspace(0, 1, 100)\n",
        "\n",
        "    # Calculate the mean ROC\n",
        "    int_tpr = [np.interp(linspace, fpr[i], tpr[i]) for i in range(k)]\n",
        "    mean_tpr = np.mean(int_tpr, axis=0)\n",
        "\n",
        "    # Plot all ROC curves for each fold and the average ROC curve\n",
        "    for i in range(k):\n",
        "        plt.plot(fpr[i], tpr[i], label=f'fold {i + 1}, Area: {roc_auc[i]:.5f}')\n",
        "\n",
        "    plt.plot(linspace, mean_tpr, label=f'Average Curve, Area: {auc(linspace, mean_tpr):.5f} (+/- {np.std(roc_auc)*2:.5f})')\n",
        "\n",
        "    # Plot the graph\n",
        "    plt.legend(prop={'size': 16})\n",
        "    # Save the ROC curve\n",
        "    plt.savefig(f'{reports_path}images/{file_name}-roc_curve.png')\n",
        "    plt.show() # Show the plot\n",
        "\n",
        "\n",
        "\n",
        "def plot_confusion_matrix(y_true, y_pred, class_names, normalized,\n",
        "                          save_figure=False, reports_path=None, file_name=None):\n",
        "    # Get confusion matrix\n",
        "    cm = confusion_matrix(y_true, y_pred, normalize=normalized)\n",
        "    # Confusion matrix display\n",
        "    cm_p = ConfusionMatrixDisplay(confusion_matrix=cm, display_labels=class_names)\n",
        "    fig, ax = plt.subplots(figsize=(7,7)) # Plot size\n",
        "    plt.rcParams.update({'font.size': 14}) # Font size\n",
        "    cm_p.plot(ax=ax) # Confusion matrix plot show\n",
        "\n",
        "    if save_figure == True: # Save figure\n",
        "        plt.savefig(f'{reports_path}images/{file_name}-cm.png')\n",
        "\n",
        "    # Return confusion matrix\n",
        "    return cm\n",
        "\n",
        "\n",
        "\n",
        "def classification_with_report(model, X, y, k, class_names, save_report=False,\n",
        "                               reports_path=None, file_name=None, verbose=True):\n",
        "    # Lists\n",
        "    fpr, tpr, roc_auc = [], [], []\n",
        "    original_label, predicted_label, predicted_proba = [], [], []\n",
        "\n",
        "    # Stratified K-Fold cross-validation\n",
        "    skf = StratifiedKFold(k)\n",
        "\n",
        "    # Time counting\n",
        "    start = time()\n",
        "\n",
        "    # Train and test the model for each 'k' fold in all the data\n",
        "    for train_index, test_index in skf.split(X,y):\n",
        "        model.fit(X.iloc[train_index], y[train_index])\n",
        "        y_pred_probability = model.predict_proba(X.iloc[test_index])\n",
        "\n",
        "        # Predict to generate classification report\n",
        "        y_pred = model.predict(X.iloc[test_index])\n",
        "        predicted_label.extend(y_pred)\n",
        "        original_label.extend(y[test_index])\n",
        "\n",
        "        # Compute micro-average ROC curve and ROC area\n",
        "        temp_fpr, temp_tpr, _ = roc_curve(y[test_index], y_pred_probability[:,1])\n",
        "        fpr.append(temp_fpr)\n",
        "        tpr.append(temp_tpr)\n",
        "        roc_auc.append(auc(temp_fpr, temp_tpr))\n",
        "\n",
        "    # Total time spent on training\n",
        "    total_time = time() - start\n",
        "\n",
        "    if verbose == True: # Show results\n",
        "        # Results\n",
        "        print('\\t\\t\\tClassification Report\\n\\n')\n",
        "        print(classification_report(original_label, predicted_label, target_names=class_names, digits=5))\n",
        "        print('Accuracy: ' + str(round(accuracy_score(original_label, predicted_label), 5)))\n",
        "        print('F1-Score: ' + str(round(f1_score(original_label, predicted_label), 5)))\n",
        "        print('Precision: ' + str(round(precision_score(original_label, predicted_label), 5)))\n",
        "        print('Recall: ' + str(round(recall_score(original_label, predicted_label), 5)))\n",
        "        print('AUC: ' + str(round(np.mean(roc_auc), 5)))\n",
        "        print('Total Time: ' + str(round(total_time, 5)) + ' seconds')\n",
        "        print('Confusion Matrix:\\n')\n",
        "        # Plot the ROC curve\n",
        "        plot_roc_curve(model, fpr, tpr, roc_auc, k)\n",
        "        # Plot the confusion matrix\n",
        "        _ = plot_confusion_matrix(original_label, predicted_label, class_names, None)\n",
        "\n",
        "    if save_report == True: # Save report\n",
        "        # file_name (without extension)\n",
        "        with open(reports_path + file_name + '.txt', 'a+') as f:\n",
        "            f.write(type(model).__name__ + '\\n ')\n",
        "            f.write(str(model))\n",
        "            f.write('\\n\\n\\n')\n",
        "            f.write('\\t\\t\\tClassification Report\\n\\n')\n",
        "            f.write(classification_report(original_label, predicted_label, target_names=class_names, digits=5))\n",
        "            f.write('\\n\\nAccuracy: ' + str(round(accuracy_score(original_label, predicted_label), 5)))\n",
        "            f.write('\\n\\nF1-Score: ' + str(round(f1_score(original_label, predicted_label), 5)))\n",
        "            f.write('\\n\\nPrecision: ' + str(round(precision_score(original_label, predicted_label), 5)))\n",
        "            f.write('\\n\\nRecall: ' + str(round(recall_score(original_label, predicted_label), 5)))\n",
        "            f.write('\\nAUC: ' + str(round(np.mean(roc_auc), 5)))\n",
        "            f.write('\\nTotal Time: ' + str(round(total_time, 5)) + ' seconds\\n\\n')\n",
        "            # Save the ROC curve\n",
        "            plot_roc_curve(model, fpr, tpr, roc_auc, k,\n",
        "                           save_figure=True, reports_path=reports_path, file_name=file_name)\n",
        "            # Save the confusion matrix\n",
        "            _ = plot_confusion_matrix(original_label, predicted_label, class_names, None,\n",
        "                                      save_figure=True, reports_path=reports_path, file_name=file_name)\n",
        "\n",
        "    return model # Return trained model\n",
        "\n",
        "\n",
        "\n",
        "def report_model(model, X, y, class_names, normalized='true'):\n",
        "    # Predict to generate report\n",
        "    y_pred = model.predict(X)\n",
        "\n",
        "    # Results\n",
        "    print('\\t\\t\\tClassification Report\\n\\n')\n",
        "    print(classification_report(y, y_pred, target_names=class_names, digits=5))\n",
        "\n",
        "    # Confusion matrix\n",
        "    print('\\nConfusion Matrix:\\n')\n",
        "    cm = plot_confusion_matrix(y, y_pred, class_names, normalized)\n",
        "    # True Negative (TN)\n",
        "    tn = cm[0][0]\n",
        "    # False Negative (FN)\n",
        "    fn = cm[1][0]\n",
        "    # True Positive (TP)\n",
        "    tp = cm[1][1]\n",
        "    # False Positive (FP)\n",
        "    fp = cm[0][1]\n",
        "    # True Positive Rate (TRP)\n",
        "    tpr = tp / (tp + fn)\n",
        "    # False Positive Rate (FPR)\n",
        "    fpr = fp / (fp + tn)\n",
        "    print(f'True Positive Rate (TPR): {round(tpr, 5)}')\n",
        "    print(f'False Positive Rate (FPR): {round(fpr, 5)}')\n"
      ],
      "metadata": {
        "id": "m-WxWfYWwkNC"
      },
      "execution_count": null,
      "outputs": []
    },
    {
      "cell_type": "code",
      "source": [
        "# General path\n",
        "path = f'/content/EvilTwin_detection/'\n",
        "# Pre-processed data path\n",
        "preprocessed_data_path = f'{path}data/pre_processed/'\n",
        "# Path to save the models\n",
        "models_path = f'{path}/models/'\n",
        "# Path to save results\n",
        "reports_path = f'{path}/reports/'\n",
        "\n",
        "# Load pre-processed training dataset\n",
        "train_df = pd.read_csv(preprocessed_data_path + 'train_data.csv')\n",
        "# Load pre-processed test dataset\n",
        "test_df = pd.read_csv(preprocessed_data_path + 'test_data.csv')"
      ],
      "metadata": {
        "id": "Z4g9wQLbwkQB"
      },
      "execution_count": null,
      "outputs": []
    },
    {
      "cell_type": "code",
      "source": [
        "# Split train data into X and y\n",
        "X_train, y_train = split_X_y(train_df)\n",
        "# Split test data into X and y\n",
        "X_test, y_test = split_X_y(test_df)\n",
        "\n",
        "# Balance train data with SMOTE\n",
        "X_res, y_res = KMeansSMOTE(random_state=RANDOM_STATE).fit_resample(X_train, y_train)\n"
      ],
      "metadata": {
        "id": "Xpz3zo1BwkUb"
      },
      "execution_count": null,
      "outputs": []
    },
    {
      "cell_type": "code",
      "source": [
        "# Define the neural network model\n",
        "nn_model = MLPClassifier(random_state=RANDOM_STATE)\n",
        "\n",
        "# Train the model on the balanced training data\n",
        "nn_model.fit(X_res, y_res)\n",
        "\n",
        "# Predict labels for the test data\n",
        "y_pred_nn = nn_model.predict(X_test)\n",
        "\n",
        "report_model(nn_model, X_test, y_test, ['Normal', 'Evil Twin'], None)\n"
      ],
      "metadata": {
        "colab": {
          "base_uri": "https://localhost:8080/",
          "height": 879
        },
        "id": "bOm8CbKLt3Mq",
        "outputId": "25d9b040-93d3-4c32-c1af-4a2429859551"
      },
      "execution_count": null,
      "outputs": [
        {
          "output_type": "stream",
          "name": "stdout",
          "text": [
            "\t\t\tClassification Report\n",
            "\n",
            "\n",
            "              precision    recall  f1-score   support\n",
            "\n",
            "      Normal    1.00000   0.99015   0.99505     24272\n",
            "   Evil Twin    0.69280   1.00000   0.81853       539\n",
            "\n",
            "    accuracy                        0.99037     24811\n",
            "   macro avg    0.84640   0.99508   0.90679     24811\n",
            "weighted avg    0.99333   0.99037   0.99122     24811\n",
            "\n",
            "\n",
            "Confusion Matrix:\n",
            "\n",
            "True Positive Rate (TPR): 1.0\n",
            "False Positive Rate (FPR): 0.00985\n"
          ]
        },
        {
          "output_type": "display_data",
          "data": {
            "text/plain": [
              "<Figure size 700x700 with 2 Axes>"
            ],
            "image/png": "[encoded data removed]"
          },
          "metadata": {}
        }
      ]
    },
    {
      "cell_type": "code",
      "source": [
        "from sklearn.svm import SVC\n",
        "# Define the SVM model with RBF kernel\n",
        "svm_rbf_model = SVC(kernel='rbf', random_state=RANDOM_STATE)\n",
        "\n",
        "# Train the model on the balanced training data\n",
        "svm_rbf_model.fit(X_res, y_res)\n",
        "\n",
        "# Predict labels for the test data\n",
        "y_pred_svm_rbf = svm_rbf_model.predict(X_test)\n",
        "\n",
        "report_model(svm_rbf_model, X_test, y_test, ['Normal', 'Evil Twin'], None)"
      ],
      "metadata": {
        "id": "5_-EdwDqwYHe",
        "colab": {
          "base_uri": "https://localhost:8080/",
          "height": 879
        },
        "outputId": "03608563-82eb-4120-c1fe-a3ed2e7f1e69"
      },
      "execution_count": null,
      "outputs": [
        {
          "output_type": "stream",
          "name": "stdout",
          "text": [
            "\t\t\tClassification Report\n",
            "\n",
            "\n",
            "              precision    recall  f1-score   support\n",
            "\n",
            "      Normal    1.00000   0.98908   0.99451     24272\n",
            "   Evil Twin    0.67040   1.00000   0.80268       539\n",
            "\n",
            "    accuracy                        0.98932     24811\n",
            "   macro avg    0.83520   0.99454   0.89860     24811\n",
            "weighted avg    0.99284   0.98932   0.99034     24811\n",
            "\n",
            "\n",
            "Confusion Matrix:\n",
            "\n",
            "True Positive Rate (TPR): 1.0\n",
            "False Positive Rate (FPR): 0.01092\n"
          ]
        },
        {
          "output_type": "display_data",
          "data": {
            "text/plain": [
              "<Figure size 700x700 with 2 Axes>"
            ],
            "image/png": "[encoded data removed]"
          },
          "metadata": {}
        }
      ]
    },
    {
      "cell_type": "code",
      "source": [
        "import time\n",
        "from sklearn.svm import SVC\n",
        "from sklearn.neural_network import MLPClassifier\n",
        "from sklearn.metrics import accuracy_score, f1_score, precision_score, recall_score, roc_auc_score\n",
        "from sklearn.metrics import confusion_matrix, roc_curve, auc, classification_report\n",
        "from sklearn.model_selection import StratifiedKFold\n",
        "from sklearn.metrics import ConfusionMatrixDisplay\n",
        "import matplotlib.pyplot as plt\n",
        "import numpy as np\n",
        "\n",
        "def train_model_and_get_metrics(model, X_train, y_train, X_test, y_test):\n",
        "    start_time = time.time()\n",
        "    model.fit(X_train, y_train)\n",
        "    end_time = time.time()\n",
        "    train_time = end_time - start_time\n",
        "\n",
        "    y_pred = model.predict(X_test)\n",
        "\n",
        "    metrics = {\n",
        "        'Accuracy': accuracy_score(y_test, y_pred),\n",
        "        'F1-Score': f1_score(y_test, y_pred),\n",
        "        'Precision': precision_score(y_test, y_pred),\n",
        "        'Recall': recall_score(y_test, y_pred)\n",
        "    }\n",
        "\n",
        "    if isinstance(model, SVC):\n",
        "        decision_scores = model.decision_function(X_test)\n",
        "        metrics['AUC'] = roc_auc_score(y_test, decision_scores)\n",
        "    elif isinstance(model, MLPClassifier):\n",
        "        y_pred_proba = model.predict_proba(X_test)[:, 1]\n",
        "        metrics['AUC'] = roc_auc_score(y_test, y_pred_proba)\n",
        "\n",
        "    return metrics, train_time\n",
        "\n",
        "# Define models\n",
        "models = {\n",
        "    'SVM with RBF Kernel': SVC(kernel='rbf', random_state=RANDOM_STATE),\n",
        "    'Neural Network': MLPClassifier(random_state=RANDOM_STATE)\n",
        "}\n",
        "\n",
        "# Train models and get metrics\n",
        "metrics = {}\n",
        "times = {}\n",
        "for model_name, model in models.items():\n",
        "    metrics[model_name], times[model_name] = train_model_and_get_metrics(model, X_res, y_res, X_test, y_test)\n",
        "\n",
        "# Display metrics\n",
        "for model_name, metric in metrics.items():\n",
        "    print(f\"{model_name}:\")\n",
        "    for metric_name, value in metric.items():\n",
        "        print(f\"{metric_name}: {value}\")\n",
        "    print(f\"TT (Sec): {round(times[model_name], 4)}\\n\")\n"
      ],
      "metadata": {
        "colab": {
          "base_uri": "https://localhost:8080/"
        },
        "id": "ieJ-386GPy6r",
        "outputId": "641dd95a-36e8-4561-d8f8-75a6f3fba940"
      },
      "execution_count": null,
      "outputs": [
        {
          "output_type": "stream",
          "name": "stdout",
          "text": [
            "SVM with RBF Kernel:\n",
            "Accuracy: 0.9893192535568901\n",
            "F1-Score: 0.802680565897245\n",
            "Precision: 0.6703980099502488\n",
            "Recall: 1.0\n",
            "AUC: 0.9989641591340198\n",
            "TT (Sec): 0.1718\n",
            "\n",
            "Neural Network:\n",
            "Accuracy: 0.9903671758494216\n",
            "F1-Score: 0.8185269552012149\n",
            "Precision: 0.6928020565552699\n",
            "Recall: 1.0\n",
            "AUC: 0.9978433581438807\n",
            "TT (Sec): 24.767\n",
            "\n"
          ]
        }
      ]
    }
  ]
}